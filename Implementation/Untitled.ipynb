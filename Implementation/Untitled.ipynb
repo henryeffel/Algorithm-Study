{
 "cells": [
  {
   "cell_type": "code",
   "execution_count": null,
   "id": "d2f09f00-f544-4b17-b3b4-2aff3aa4a40b",
   "metadata": {},
   "outputs": [],
   "source": [
    "n = int(input())\n",
    "x,y = 1,1 #start point\n",
    "plans = input().split()\n",
    "\n",
    "#move type? dx dy 설정 l r u d\n",
    "dx = [0,0,-1,1]\n",
    "dy = [-1,1,0,0]\n",
    "move_type = [\"l\",\"r\",\"u\",\"d\"]\n",
    "\n",
    "for plan in plans:\n",
    "    for i in range(len(move_type))\n",
    "        if plan == move_type[i]:\n",
    "            nx = x+dx[i]\n",
    "            ny = y+dy[i]\n",
    "        if nx < 1 or ny < 1 or nx > n or ny > n:\n",
    "            continue #장외홈런 방지\n",
    "        x,y = nx,ny\n",
    "print(x,y)\n",
    "        "
   ]
  },
  {
   "cell_type": "code",
   "execution_count": 13,
   "id": "826bf1b2-8c0d-44c5-949a-daaf36330c46",
   "metadata": {},
   "outputs": [],
   "source": [
    "#첫재줄에 공간의 크기를 나타내는 n 이 주어집니다.\n",
    "#둘재줄에 둘재줄에 여행가 a가 이동할 계획이 주어집니다,\n",
    "#여행가 a가 도착할 좌표를 구하세요\n",
    "\n",
    "#n = 5\n",
    "# r r r u d d  -> 3,4\n",
    "\n",
    "#1. 문제 나누기\n",
    "#2. 모듈로 나누기\n",
    "#3. 입출력으로 고려하기\n",
    "\n",
    "# (1,1) 부터 (n,n)인 죄표가 있다 항상 시작이 1,1\n",
    "#상 하 좌 우 로 움직일수있다 - > (1,0),(-1,0),(0,-1),(0,1)\n",
    "# l = (0,-1)\n",
    "\n",
    "#1. 맵 설정"
   ]
  },
  {
   "cell_type": "code",
   "execution_count": 14,
   "id": "a32cfa84-4ed1-41b9-b82c-ac95d5efcb4b",
   "metadata": {},
   "outputs": [],
   "source": [
    "#시각을 구하시오.ㅣ,,\n",
    "#첫째줄에 정수 n이 입력됩\n",
    "#00시00분00초부터 n시 59분 59초까지 모든 시각에서 3이 포함된 수를 출력\n",
    "# 이걸 할려면 시 분 초 로 나눠서 3이 들어가있는걸 다 찾는다,\n",
    "# for i in range(sigan)\n",
    "#    for j in range(boon)\n",
    "#        for k in range(cho)\n"
   ]
  },
  {
   "cell_type": "code",
   "execution_count": 15,
   "id": "a236259e-d135-41ea-a602-6bc93818f9fb",
   "metadata": {},
   "outputs": [
    {
     "ename": "NameError",
     "evalue": "name 'inpu' is not defined",
     "output_type": "error",
     "traceback": [
      "\u001b[31m---------------------------------------------------------------------------\u001b[39m",
      "\u001b[31mNameError\u001b[39m                                 Traceback (most recent call last)",
      "\u001b[36mCell\u001b[39m\u001b[36m \u001b[39m\u001b[32mIn[15]\u001b[39m\u001b[32m, line 1\u001b[39m\n\u001b[32m----> \u001b[39m\u001b[32m1\u001b[39m n = \u001b[38;5;28mint\u001b[39m(\u001b[43minpu\u001b[49m())\n\u001b[32m      2\u001b[39m t = \u001b[32m0\u001b[39m\n\u001b[32m      3\u001b[39m \u001b[38;5;28;01mfor\u001b[39;00m i \u001b[38;5;129;01min\u001b[39;00m \u001b[38;5;28mrange\u001b[39m(h+\u001b[32m1\u001b[39m):\n",
      "\u001b[31mNameError\u001b[39m: name 'inpu' is not defined"
     ]
    }
   ],
   "source": [
    "n = int(inpu())\n",
    "t = 0\n",
    "for i in range(h+1):\n",
    "    for j in range(60):\n",
    "        for k in range(60):\n",
    "            if \"3\" in str(i) + str(j) + str(k):\n",
    "                count += 1\n",
    "print(count)"
   ]
  },
  {
   "cell_type": "code",
   "execution_count": 16,
   "id": "c12a8bed-7eaf-47ac-a915-c1352a6eafa3",
   "metadata": {},
   "outputs": [
    {
     "name": "stdin",
     "output_type": "stream",
     "text": [
      " adasdwr1559\n"
     ]
    },
    {
     "name": "stdout",
     "output_type": "stream",
     "text": [
      "aaddrsw20\n"
     ]
    }
   ],
   "source": [
    "#문자열 재설정 \n",
    "#알파뱃숫자가 입력됩니다 \n",
    "#모든 알파벳을 오름차순 정리하다음 그 뒤에 모든 숫자를 더해서 출력합니다.\n",
    "\n",
    "#입력받은 리스트? 를 알파벳,숫자로 나눈다\n",
    "n = input()\n",
    "result = []\n",
    "value = 0\n",
    "for i in n:\n",
    "    if i.isalpha():\n",
    "        result.append(i)\n",
    "    else:\n",
    "        value += int(i)\n",
    "result.sort()\n",
    "if value != 0:\n",
    "    result.append(str(value))\n",
    "print(\"\".join(result))\n",
    "#알파벳을 오름차순 하여 새 배열에 넣는다\n",
    "#숫자를 더해서 새 배열에 넣는다\n",
    "#둘이 출ㄹ력\n"
   ]
  },
  {
   "cell_type": "code",
   "execution_count": 19,
   "id": "e2a33b78-e4f2-440b-b98a-a9207a46588d",
   "metadata": {},
   "outputs": [
    {
     "ename": "SyntaxError",
     "evalue": "invalid syntax (3290755468.py, line 7)",
     "output_type": "error",
     "traceback": [
      "  \u001b[36mCell\u001b[39m\u001b[36m \u001b[39m\u001b[32mIn[19]\u001b[39m\u001b[32m, line 7\u001b[39m\n\u001b[31m    \u001b[39m\u001b[31mfor i in range data:\u001b[39m\n                   ^\n\u001b[31mSyntaxError\u001b[39m\u001b[31m:\u001b[39m invalid syntax\n"
     ]
    }
   ],
   "source": [
    "data = input()\n",
    "#뭘 또 받아야 할까?\n",
    "result = []\n",
    "#숫자를 받는다?\n",
    "value = 0\n",
    "\n",
    "for i in range data:\n",
    "    if i.isalpha(): #알파벳만 걸른다\n",
    "        #이 값을 저장해야지\n",
    "        result.append(i)\n",
    "    else: #숫자일경우 저장해야하는데?\n",
    "        value += int(i)\n",
    "#이제 알파벳 정렬\n",
    "result.sort()\n",
    "#이제 숫자를 모아서 더해서 최종 출력\n",
    "if value != 0:\n",
    "    result.append(str(value))\n",
    "#결론\n",
    "print(\"\".join(result))\n",
    "        "
   ]
  },
  {
   "cell_type": "code",
   "execution_count": 20,
   "id": "8d17430a-a1e9-4b0a-aa28-602024cf0c70",
   "metadata": {},
   "outputs": [
    {
     "name": "stdin",
     "output_type": "stream",
     "text": [
      " wjaflgfnkgjdhgieo1119922933993\n"
     ]
    },
    {
     "name": "stdout",
     "output_type": "stream",
     "text": [
      "adeffggghijjklnow61\n"
     ]
    }
   ],
   "source": [
    "data = input()\n",
    "result = []\n",
    "value = 0\n",
    "\n",
    "for i in data:\n",
    "    if i.isalpha():\n",
    "        result.append(i)\n",
    "    else:\n",
    "        value += int(i)\n",
    "result.sort()\n",
    "if value != 0:\n",
    "    result.append(str(value))\n",
    "print(\"\".join(result))"
   ]
  },
  {
   "cell_type": "code",
   "execution_count": 21,
   "id": "c1b4457d-52c3-489e-aa9a-6d95223db20b",
   "metadata": {},
   "outputs": [
    {
     "ename": "NameError",
     "evalue": "name 'sizes' is not defined",
     "output_type": "error",
     "traceback": [
      "\u001b[31m---------------------------------------------------------------------------\u001b[39m",
      "\u001b[31mNameError\u001b[39m                                 Traceback (most recent call last)",
      "\u001b[36mCell\u001b[39m\u001b[36m \u001b[39m\u001b[32mIn[21]\u001b[39m\u001b[32m, line 4\u001b[39m\n\u001b[32m      2\u001b[39m     max_w = \u001b[32m0\u001b[39m\n\u001b[32m      3\u001b[39m     max_h = \u001b[32m0\u001b[39m\n\u001b[32m----> \u001b[39m\u001b[32m4\u001b[39m \u001b[38;5;28;01mfor\u001b[39;00m w,h \u001b[38;5;129;01min\u001b[39;00m \u001b[43msizes\u001b[49m:\n\u001b[32m      5\u001b[39m     w,h = \u001b[38;5;28mmax\u001b[39m(w,h), \u001b[38;5;28mmin\u001b[39m(w,h)\n\u001b[32m      6\u001b[39m     max_w = \u001b[38;5;28mmax\u001b[39m(max_w,w)\n",
      "\u001b[31mNameError\u001b[39m: name 'sizes' is not defined"
     ]
    }
   ],
   "source": [
    "def solution (sizes):\n",
    "    max_w = 0\n",
    "    max_h = 0\n",
    "for w,h in sizes:\n",
    "    w,h = max(w,h), min(w,h)\n",
    "    max_w = max(max_w,w)\n",
    "    max_h = max(max_h,h)\n",
    "return max_w * max_h"
   ]
  },
  {
   "cell_type": "code",
   "execution_count": null,
   "id": "86a1fc99-9aad-4d96-9853-c3b99d129c3e",
   "metadata": {},
   "outputs": [],
   "source": [
    "\n",
    "2\n",
    "3\n",
    "4\n",
    "5\n",
    "6\n",
    "7\n",
    "8\n",
    "9\n",
    "10\n",
    "def solution(sizes):\n",
    "    row = 0\n",
    "    col = 0\n",
    "    for a, b in sizes:\n",
    "        if a < b:\n",
    "            a, b = b, a\n",
    "        row = max(row, a)\n",
    "        col = max(col, b)\n",
    "    return row * col"
   ]
  }
 ],
 "metadata": {
  "kernelspec": {
   "display_name": "Python 3 (ipykernel)",
   "language": "python",
   "name": "python3"
  },
  "language_info": {
   "codemirror_mode": {
    "name": "ipython",
    "version": 3
   },
   "file_extension": ".py",
   "mimetype": "text/x-python",
   "name": "python",
   "nbconvert_exporter": "python",
   "pygments_lexer": "ipython3",
   "version": "3.13.5"
  }
 },
 "nbformat": 4,
 "nbformat_minor": 5
}
