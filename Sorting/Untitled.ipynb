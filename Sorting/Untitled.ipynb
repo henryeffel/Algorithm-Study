{
 "cells": [
  {
   "cell_type": "code",
   "execution_count": 6,
   "id": "b553c288-0a1f-4bdc-b207-fb3afe48ad98",
   "metadata": {},
   "outputs": [
    {
     "data": {
      "text/plain": [
       "'[1, 2, 3]\\n[1, 3, 2]\\n[2, 1, 3]\\n[2, 3, 1]\\n[3, 1, 2]\\n[3, 2, 1]'"
      ]
     },
     "execution_count": 6,
     "metadata": {},
     "output_type": "execute_result"
    }
   ],
   "source": [
    "#n명의 사람이 일렬로 줄을 서고 있습니다.\n",
    "#n명의 사람들에게는 각각 1번부터 n번까지 번호가 매겨져 있습니다.\n",
    "#n명이 사람을 줄을 서는 방법은 여러가지 방법이 있습니다. \n",
    "#예를 들어서 3명의 사람이 있다면 다음과 같이 6개의 방법이 있습니다. -> n!\n",
    "'''[1, 2, 3]\n",
    "[1, 3, 2]\n",
    "[2, 1, 3]\n",
    "[2, 3, 1]\n",
    "[3, 1, 2]\n",
    "[3, 2, 1]'''\n",
    "#사람의 수 n과, 자연수 k가 주어질 때,\n",
    "#사람을 나열 하는 방법을 사전 순으로 나열 했을 때,\n",
    "#k번째 방법을 return하는 solution 함수를 완성해주세요."
   ]
  },
  {
   "cell_type": "code",
   "execution_count": 7,
   "id": "e3376d7f-6099-4aa8-8602-f698a7241f6e",
   "metadata": {},
   "outputs": [
    {
     "data": {
      "text/plain": [
       "1"
      ]
     },
     "execution_count": 7,
     "metadata": {},
     "output_type": "execute_result"
    }
   ],
   "source": [
    "3 // 2 "
   ]
  },
  {
   "cell_type": "code",
   "execution_count": 8,
   "id": "fc1d6802-7c18-43f7-93fd-fea825add76e",
   "metadata": {},
   "outputs": [
    {
     "data": {
      "text/plain": [
       "0"
      ]
     },
     "execution_count": 8,
     "metadata": {},
     "output_type": "execute_result"
    }
   ],
   "source": [
    "1%1"
   ]
  },
  {
   "cell_type": "code",
   "execution_count": 9,
   "id": "2617e121-4f8f-4134-bbd8-ed6bd3d8ee63",
   "metadata": {},
   "outputs": [
    {
     "data": {
      "text/plain": [
       "1"
      ]
     },
     "execution_count": 9,
     "metadata": {},
     "output_type": "execute_result"
    }
   ],
   "source": [
    "8 // 6"
   ]
  },
  {
   "cell_type": "code",
   "execution_count": 10,
   "id": "4cdabe43-9aba-490b-9bec-4cf40b451386",
   "metadata": {},
   "outputs": [
    {
     "data": {
      "text/plain": [
       "2"
      ]
     },
     "execution_count": 10,
     "metadata": {},
     "output_type": "execute_result"
    }
   ],
   "source": [
    "8%6"
   ]
  },
  {
   "cell_type": "code",
   "execution_count": 11,
   "id": "1189912b-5fac-48cd-859e-3033bab3895a",
   "metadata": {},
   "outputs": [
    {
     "data": {
      "text/plain": [
       "1"
      ]
     },
     "execution_count": 11,
     "metadata": {},
     "output_type": "execute_result"
    }
   ],
   "source": [
    "2//2"
   ]
  },
  {
   "cell_type": "code",
   "execution_count": 12,
   "id": "d58f4bf0-ca2e-44ce-8a15-c79e50f3a90a",
   "metadata": {},
   "outputs": [
    {
     "data": {
      "text/plain": [
       "0"
      ]
     },
     "execution_count": 12,
     "metadata": {},
     "output_type": "execute_result"
    }
   ],
   "source": [
    "2%2"
   ]
  },
  {
   "cell_type": "code",
   "execution_count": 13,
   "id": "c7f8e901-51f0-4cff-a782-4758e9b8b459",
   "metadata": {},
   "outputs": [
    {
     "data": {
      "text/plain": [
       "0"
      ]
     },
     "execution_count": 13,
     "metadata": {},
     "output_type": "execute_result"
    }
   ],
   "source": [
    "0//1"
   ]
  },
  {
   "cell_type": "code",
   "execution_count": 14,
   "id": "708aed97-29c3-4008-8663-6e7fc110ffa1",
   "metadata": {},
   "outputs": [
    {
     "data": {
      "text/plain": [
       "1"
      ]
     },
     "execution_count": 14,
     "metadata": {},
     "output_type": "execute_result"
    }
   ],
   "source": [
    "41//24"
   ]
  },
  {
   "cell_type": "code",
   "execution_count": 15,
   "id": "61ba7308-2a23-40eb-af0b-278fac26e403",
   "metadata": {},
   "outputs": [
    {
     "data": {
      "text/plain": [
       "2"
      ]
     },
     "execution_count": 15,
     "metadata": {},
     "output_type": "execute_result"
    }
   ],
   "source": [
    "17//6"
   ]
  },
  {
   "cell_type": "code",
   "execution_count": 16,
   "id": "53aea993-9c09-4bb8-bbfa-5ffc355b5641",
   "metadata": {},
   "outputs": [
    {
     "data": {
      "text/plain": [
       "5"
      ]
     },
     "execution_count": 16,
     "metadata": {},
     "output_type": "execute_result"
    }
   ],
   "source": [
    "17%6"
   ]
  },
  {
   "cell_type": "code",
   "execution_count": null,
   "id": "918b5b0a-74b7-495d-9fac-a54c991ef1c2",
   "metadata": {},
   "outputs": [],
   "source": []
  }
 ],
 "metadata": {
  "kernelspec": {
   "display_name": "Python 3 (ipykernel)",
   "language": "python",
   "name": "python3"
  },
  "language_info": {
   "codemirror_mode": {
    "name": "ipython",
    "version": 3
   },
   "file_extension": ".py",
   "mimetype": "text/x-python",
   "name": "python",
   "nbconvert_exporter": "python",
   "pygments_lexer": "ipython3",
   "version": "3.13.5"
  }
 },
 "nbformat": 4,
 "nbformat_minor": 5
}
